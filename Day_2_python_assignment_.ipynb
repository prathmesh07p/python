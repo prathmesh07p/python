{
  "nbformat": 4,
  "nbformat_minor": 0,
  "metadata": {
    "colab": {
      "name": "Day 2 python assignment .ipynb",
      "provenance": [],
      "collapsed_sections": []
    },
    "kernelspec": {
      "name": "python3",
      "display_name": "Python 3"
    },
    "language_info": {
      "name": "python"
    }
  },
  "cells": [
    {
      "cell_type": "code",
      "metadata": {
        "colab": {
          "base_uri": "https://localhost:8080/"
        },
        "id": "7BKgGAVIt_nc",
        "outputId": "101ace24-7488-4755-cf80-7021bf965fb1"
      },
      "source": [
        "a=\"hello world\"\n",
        "\n",
        "print(a.count('h'))\n"
      ],
      "execution_count": 12,
      "outputs": [
        {
          "output_type": "stream",
          "text": [
            "1\n"
          ],
          "name": "stdout"
        }
      ]
    },
    {
      "cell_type": "code",
      "metadata": {
        "colab": {
          "base_uri": "https://localhost:8080/"
        },
        "id": "8t0LEAZewmcr",
        "outputId": "599cb4b4-5471-4dd8-e20e-0628606159e8"
      },
      "source": [
        "print(a.count(\"e\"))"
      ],
      "execution_count": 11,
      "outputs": [
        {
          "output_type": "stream",
          "text": [
            "1\n"
          ],
          "name": "stdout"
        }
      ]
    },
    {
      "cell_type": "code",
      "metadata": {
        "colab": {
          "base_uri": "https://localhost:8080/"
        },
        "id": "82fTT9CdxFoX",
        "outputId": "d02acb4c-b46f-4741-989e-21a3714691f5"
      },
      "source": [
        "print(a.count(\"l\"))"
      ],
      "execution_count": 13,
      "outputs": [
        {
          "output_type": "stream",
          "text": [
            "3\n"
          ],
          "name": "stdout"
        }
      ]
    },
    {
      "cell_type": "code",
      "metadata": {
        "colab": {
          "base_uri": "https://localhost:8080/"
        },
        "id": "REfLpRnnxKf_",
        "outputId": "df71774d-0929-46ee-ea71-ef5cd080a23f"
      },
      "source": [
        "print(a.count(\"o\"))"
      ],
      "execution_count": 14,
      "outputs": [
        {
          "output_type": "stream",
          "text": [
            "2\n"
          ],
          "name": "stdout"
        }
      ]
    },
    {
      "cell_type": "code",
      "metadata": {
        "colab": {
          "base_uri": "https://localhost:8080/"
        },
        "id": "s3lqgiJ5xPi3",
        "outputId": "208d6675-f50b-4596-b1e8-f47aac22758a"
      },
      "source": [
        "print(a.count(\"w\"))"
      ],
      "execution_count": 15,
      "outputs": [
        {
          "output_type": "stream",
          "text": [
            "1\n"
          ],
          "name": "stdout"
        }
      ]
    },
    {
      "cell_type": "code",
      "metadata": {
        "colab": {
          "base_uri": "https://localhost:8080/"
        },
        "id": "jt9KOtdwxVZ_",
        "outputId": "6f2a021b-ce19-4ba9-9c60-73337c5a57cb"
      },
      "source": [
        "print(a.count(\"r\"))"
      ],
      "execution_count": 16,
      "outputs": [
        {
          "output_type": "stream",
          "text": [
            "1\n"
          ],
          "name": "stdout"
        }
      ]
    },
    {
      "cell_type": "code",
      "metadata": {
        "colab": {
          "base_uri": "https://localhost:8080/"
        },
        "id": "pKSvLKXOxdW3",
        "outputId": "75436ebe-5f52-40a1-c10b-8ad454685bcd"
      },
      "source": [
        "print(a.count(\"d\"))"
      ],
      "execution_count": 17,
      "outputs": [
        {
          "output_type": "stream",
          "text": [
            "1\n"
          ],
          "name": "stdout"
        }
      ]
    }
  ]
}