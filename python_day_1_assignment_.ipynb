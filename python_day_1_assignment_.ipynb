{
  "nbformat": 4,
  "nbformat_minor": 0,
  "metadata": {
    "colab": {
      "name": "python day 1 assignment .ipynb",
      "provenance": [],
      "collapsed_sections": []
    },
    "kernelspec": {
      "name": "python3",
      "display_name": "Python 3"
    },
    "language_info": {
      "name": "python"
    }
  },
  "cells": [
    {
      "cell_type": "code",
      "metadata": {
        "id": "hNBKwaExbNfC",
        "colab": {
          "base_uri": "https://localhost:8080/"
        },
        "outputId": "3345c2b7-ed2b-4f55-a3be-90d0b9b94467"
      },
      "source": [
        "print(\"hello\")"
      ],
      "execution_count": 1,
      "outputs": [
        {
          "output_type": "stream",
          "text": [
            "hello\n"
          ],
          "name": "stdout"
        }
      ]
    },
    {
      "cell_type": "code",
      "metadata": {
        "colab": {
          "base_uri": "https://localhost:8080/"
        },
        "id": "uKr9AG09tgB1",
        "outputId": "41f3c2aa-5f38-4247-8dc6-6848b98b8011"
      },
      "source": [
        "x=int(input(\"Enter four\"))\n",
        "y=int(input(\"Enter two\"))\n",
        "z=x**y\n",
        "print(z)"
      ],
      "execution_count": 4,
      "outputs": [
        {
          "output_type": "stream",
          "text": [
            "Enter four4\n",
            "Enter two2\n",
            "16\n"
          ],
          "name": "stdout"
        }
      ]
    }
  ]
}