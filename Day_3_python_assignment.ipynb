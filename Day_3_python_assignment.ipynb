{
  "nbformat": 4,
  "nbformat_minor": 0,
  "metadata": {
    "colab": {
      "name": "Day 3 python assignment.ipynb",
      "provenance": [],
      "collapsed_sections": []
    },
    "kernelspec": {
      "name": "python3",
      "display_name": "Python 3"
    },
    "language_info": {
      "name": "python"
    }
  },
  "cells": [
    {
      "cell_type": "code",
      "metadata": {
        "colab": {
          "base_uri": "https://localhost:8080/"
        },
        "id": "Fw2ChzIiyoB6",
        "outputId": "df69bfd3-9ea9-40c3-cc1b-e20db86a48ec"
      },
      "source": [
        "#project\n",
        "\n",
        "import random\n",
        "import string\n",
        "\n",
        "id= ''\n",
        "\n",
        "character_list=list(string.ascii_letters+string.digits)\n",
        "\n",
        "for i in range(6):\n",
        "  id += random.choice(character_list)\n",
        "\n",
        "  print(id)\n",
        "                  "
      ],
      "execution_count": 75,
      "outputs": [
        {
          "output_type": "stream",
          "text": [
            "X\n",
            "X1\n",
            "X1c\n",
            "X1cX\n",
            "X1cXG\n",
            "X1cXGS\n"
          ],
          "name": "stdout"
        }
      ]
    },
    {
      "cell_type": "code",
      "metadata": {
        "id": "_mDiRGN56xmL"
      },
      "source": [
        "#assignment\n",
        "\n",
        "def mod_div(fun):\n",
        "  def inner(a,b):\n",
        "    if a<b:\n",
        "      a,b = b,a\n",
        "      fun(a,b)\n",
        "\n",
        "      return inner\n",
        "\n",
        "    @mod_div\n",
        "    def div(a,b):\n",
        "      print(a/b) \n",
        "\n",
        "      div(2,4)"
      ],
      "execution_count": 76,
      "outputs": []
    }
  ]
}